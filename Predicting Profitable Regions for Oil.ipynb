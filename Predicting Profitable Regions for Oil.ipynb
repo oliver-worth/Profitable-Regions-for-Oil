{
 "cells": [
  {
   "cell_type": "code",
   "execution_count": 7,
   "id": "740deb82",
   "metadata": {},
   "outputs": [],
   "source": [
    "import pandas as pd"
   ]
  },
  {
   "cell_type": "markdown",
   "id": "3ad9dbe2",
   "metadata": {},
   "source": [
    "# Project description\n",
    "You work for the OilyGiant mining company. Your task is to find the best place for a new well.\n",
    "\n",
    "Steps to choose the location:\n",
    "\n",
    "Collect the oil well parameters in the selected region: oil quality and volume of reserves;\n",
    "Build a model for predicting the volume of reserves in the new wells;\n",
    "Pick the oil wells with the highest estimated values;\n",
    "Pick the region with the highest total profit for the selected oil wells.\n",
    "You have data on oil samples from three regions. Parameters of each oil well in the region are already known. Build a model that will help to pick the region with the highest profit margin. Analyze potential profit and risks using the Bootstrapping technique.\n",
    "\n",
    "Project instructions\n",
    "Download and prepare the data. Explain the procedure.\n",
    "Train and test the model for each region:\n",
    "\n",
    " 2.1. Split the data into a training set and validation set at a ratio of 75:25.\n",
    "\n",
    " 2.2. Train the model and make predictions for the validation set.\n",
    "\n",
    " 2.3. Save the predictions and correct answers for the validation set.\n",
    "\n",
    " 2.4. Print the average volume of predicted reserves and model RMSE.\n",
    "\n",
    " 2.5. Analyze the results.\n",
    "\n",
    "Prepare for profit calculation:\n",
    "\n",
    " 3.1. Store all key values for calculations in separate variables.\n",
    "\n",
    " 3.2. Calculate the volume of reserves sufficient for developing a new well without losses. Compare the obtained value with the average volume of reserves in each region.\n",
    "\n",
    " 3.3. Provide the findings about the preparation for profit calculation step.\n",
    "\n",
    "Write a function to calculate profit from a set of selected oil wells and model predictions:\n",
    "\n",
    " 4.1. Pick the wells with the highest values of predictions. \n",
    "\n",
    " 4.2. Summarize the target volume of reserves in accordance with these predictions\n",
    "\n",
    " 4.3. Provide findings: suggest a region for oil wells' development and justify the choice. Calculate the profit for the obtained volume of reserves.\n",
    "\n",
    "Calculate risks and profit for each region:\n",
    "\n",
    "     5.1. Use the bootstrapping technique with 1000 samples to find the distribution of profit.\n",
    "\n",
    "     5.2. Find average profit, 95% confidence interval and risk of losses. Loss is negative profit, calculate it as a probability and then express as a percentage.\n",
    "\n",
    "     5.3. Provide findings: suggest a region for development of oil wells and justify the choice."
   ]
  },
  {
   "cell_type": "markdown",
   "id": "bf6765e1",
   "metadata": {},
   "source": [
    "## Data Description\n",
    "\n",
    "Geological exploration data for the three regions are stored in files:\n",
    "\n",
    "geo_data_0.csv. download dataset\n",
    "geo_data_1.csv. download dataset\n",
    "geo_data_2.csv. download dataset\n",
    "\n",
    "id — unique oil well identifier\n",
    "f0, f1, f2 — three features of points (their specific meaning is unimportant, but the features themselves are significant)\n",
    "product — volume of reserves in the oil well (thousand barrels).\n",
    "Conditions:\n",
    "\n",
    "Only linear regression is suitable for model training (the rest are not sufficiently predictable).\n",
    "When exploring the region, a study of 500 points is carried with picking the best 200 points for the profit calculation.\n",
    "The budget for development of 200 oil wells is 100 USD million.\n",
    "One barrel of raw materials brings 4.5 USD of revenue The revenue from one unit of product is 4,500 dollars (volume of reserves is in thousand barrels).\n",
    "After the risk evaluation, keep only the regions with the risk of losses lower than 2.5%. From the ones that fit the criteria, the region with the highest average profit should be selected.\n",
    "The data is synthetic: contract details and well characteristics are not disclosed."
   ]
  },
  {
   "cell_type": "code",
   "execution_count": 8,
   "id": "6759fe40",
   "metadata": {},
   "outputs": [],
   "source": [
    "geo_0 = pd.read_csv('geo_data_0.csv')\n",
    "geo_1 = pd.read_csv('geo_data_1.csv')\n",
    "geo_2 = pd.read_csv('geo_data_2.csv')\n",
    "\n"
   ]
  },
  {
   "cell_type": "markdown",
   "id": "58cd1fdf",
   "metadata": {},
   "source": [
    "# Cleaning Data "
   ]
  },
  {
   "cell_type": "markdown",
   "id": "52e38094",
   "metadata": {},
   "source": [
    "## Geo_0 DataFrame"
   ]
  },
  {
   "cell_type": "code",
   "execution_count": 9,
   "id": "14313acc",
   "metadata": {},
   "outputs": [
    {
     "data": {
      "text/html": [
       "<div>\n",
       "<style scoped>\n",
       "    .dataframe tbody tr th:only-of-type {\n",
       "        vertical-align: middle;\n",
       "    }\n",
       "\n",
       "    .dataframe tbody tr th {\n",
       "        vertical-align: top;\n",
       "    }\n",
       "\n",
       "    .dataframe thead th {\n",
       "        text-align: right;\n",
       "    }\n",
       "</style>\n",
       "<table border=\"1\" class=\"dataframe\">\n",
       "  <thead>\n",
       "    <tr style=\"text-align: right;\">\n",
       "      <th></th>\n",
       "      <th>id</th>\n",
       "      <th>f0</th>\n",
       "      <th>f1</th>\n",
       "      <th>f2</th>\n",
       "      <th>product</th>\n",
       "    </tr>\n",
       "  </thead>\n",
       "  <tbody>\n",
       "    <tr>\n",
       "      <th>0</th>\n",
       "      <td>txEyH</td>\n",
       "      <td>0.705745</td>\n",
       "      <td>-0.497823</td>\n",
       "      <td>1.221170</td>\n",
       "      <td>105.280062</td>\n",
       "    </tr>\n",
       "    <tr>\n",
       "      <th>1</th>\n",
       "      <td>2acmU</td>\n",
       "      <td>1.334711</td>\n",
       "      <td>-0.340164</td>\n",
       "      <td>4.365080</td>\n",
       "      <td>73.037750</td>\n",
       "    </tr>\n",
       "    <tr>\n",
       "      <th>2</th>\n",
       "      <td>409Wp</td>\n",
       "      <td>1.022732</td>\n",
       "      <td>0.151990</td>\n",
       "      <td>1.419926</td>\n",
       "      <td>85.265647</td>\n",
       "    </tr>\n",
       "    <tr>\n",
       "      <th>3</th>\n",
       "      <td>iJLyR</td>\n",
       "      <td>-0.032172</td>\n",
       "      <td>0.139033</td>\n",
       "      <td>2.978566</td>\n",
       "      <td>168.620776</td>\n",
       "    </tr>\n",
       "    <tr>\n",
       "      <th>4</th>\n",
       "      <td>Xdl7t</td>\n",
       "      <td>1.988431</td>\n",
       "      <td>0.155413</td>\n",
       "      <td>4.751769</td>\n",
       "      <td>154.036647</td>\n",
       "    </tr>\n",
       "    <tr>\n",
       "      <th>...</th>\n",
       "      <td>...</td>\n",
       "      <td>...</td>\n",
       "      <td>...</td>\n",
       "      <td>...</td>\n",
       "      <td>...</td>\n",
       "    </tr>\n",
       "    <tr>\n",
       "      <th>99995</th>\n",
       "      <td>DLsed</td>\n",
       "      <td>0.971957</td>\n",
       "      <td>0.370953</td>\n",
       "      <td>6.075346</td>\n",
       "      <td>110.744026</td>\n",
       "    </tr>\n",
       "    <tr>\n",
       "      <th>99996</th>\n",
       "      <td>QKivN</td>\n",
       "      <td>1.392429</td>\n",
       "      <td>-0.382606</td>\n",
       "      <td>1.273912</td>\n",
       "      <td>122.346843</td>\n",
       "    </tr>\n",
       "    <tr>\n",
       "      <th>99997</th>\n",
       "      <td>3rnvd</td>\n",
       "      <td>1.029585</td>\n",
       "      <td>0.018787</td>\n",
       "      <td>-1.348308</td>\n",
       "      <td>64.375443</td>\n",
       "    </tr>\n",
       "    <tr>\n",
       "      <th>99998</th>\n",
       "      <td>7kl59</td>\n",
       "      <td>0.998163</td>\n",
       "      <td>-0.528582</td>\n",
       "      <td>1.583869</td>\n",
       "      <td>74.040764</td>\n",
       "    </tr>\n",
       "    <tr>\n",
       "      <th>99999</th>\n",
       "      <td>1CWhH</td>\n",
       "      <td>1.764754</td>\n",
       "      <td>-0.266417</td>\n",
       "      <td>5.722849</td>\n",
       "      <td>149.633246</td>\n",
       "    </tr>\n",
       "  </tbody>\n",
       "</table>\n",
       "<p>100000 rows × 5 columns</p>\n",
       "</div>"
      ],
      "text/plain": [
       "          id        f0        f1        f2     product\n",
       "0      txEyH  0.705745 -0.497823  1.221170  105.280062\n",
       "1      2acmU  1.334711 -0.340164  4.365080   73.037750\n",
       "2      409Wp  1.022732  0.151990  1.419926   85.265647\n",
       "3      iJLyR -0.032172  0.139033  2.978566  168.620776\n",
       "4      Xdl7t  1.988431  0.155413  4.751769  154.036647\n",
       "...      ...       ...       ...       ...         ...\n",
       "99995  DLsed  0.971957  0.370953  6.075346  110.744026\n",
       "99996  QKivN  1.392429 -0.382606  1.273912  122.346843\n",
       "99997  3rnvd  1.029585  0.018787 -1.348308   64.375443\n",
       "99998  7kl59  0.998163 -0.528582  1.583869   74.040764\n",
       "99999  1CWhH  1.764754 -0.266417  5.722849  149.633246\n",
       "\n",
       "[100000 rows x 5 columns]"
      ]
     },
     "execution_count": 9,
     "metadata": {},
     "output_type": "execute_result"
    }
   ],
   "source": [
    "geo_0"
   ]
  },
  {
   "cell_type": "code",
   "execution_count": 10,
   "id": "c8b76ac9",
   "metadata": {},
   "outputs": [
    {
     "name": "stdout",
     "output_type": "stream",
     "text": [
      "<class 'pandas.core.frame.DataFrame'>\n",
      "RangeIndex: 100000 entries, 0 to 99999\n",
      "Data columns (total 5 columns):\n",
      " #   Column   Non-Null Count   Dtype  \n",
      "---  ------   --------------   -----  \n",
      " 0   id       100000 non-null  object \n",
      " 1   f0       100000 non-null  float64\n",
      " 2   f1       100000 non-null  float64\n",
      " 3   f2       100000 non-null  float64\n",
      " 4   product  100000 non-null  float64\n",
      "dtypes: float64(4), object(1)\n",
      "memory usage: 3.8+ MB\n"
     ]
    }
   ],
   "source": [
    "geo_0.info()\n"
   ]
  },
  {
   "cell_type": "markdown",
   "id": "323cfbbc",
   "metadata": {},
   "source": [
    "Analysis: No missing values from just checking info on region 0 and the data types all seem normal"
   ]
  },
  {
   "cell_type": "code",
   "execution_count": 11,
   "id": "a529d0ec",
   "metadata": {},
   "outputs": [
    {
     "data": {
      "text/plain": [
       "0"
      ]
     },
     "execution_count": 11,
     "metadata": {},
     "output_type": "execute_result"
    }
   ],
   "source": [
    "geo_0.duplicated().sum()"
   ]
  },
  {
   "cell_type": "code",
   "execution_count": 12,
   "id": "3842e7aa",
   "metadata": {},
   "outputs": [
    {
     "data": {
      "text/plain": [
       "10"
      ]
     },
     "execution_count": 12,
     "metadata": {},
     "output_type": "execute_result"
    }
   ],
   "source": [
    "geo_0['id'].duplicated().sum()"
   ]
  },
  {
   "cell_type": "code",
   "execution_count": 13,
   "id": "7ccbd50c",
   "metadata": {},
   "outputs": [
    {
     "data": {
      "text/html": [
       "<div>\n",
       "<style scoped>\n",
       "    .dataframe tbody tr th:only-of-type {\n",
       "        vertical-align: middle;\n",
       "    }\n",
       "\n",
       "    .dataframe tbody tr th {\n",
       "        vertical-align: top;\n",
       "    }\n",
       "\n",
       "    .dataframe thead th {\n",
       "        text-align: right;\n",
       "    }\n",
       "</style>\n",
       "<table border=\"1\" class=\"dataframe\">\n",
       "  <thead>\n",
       "    <tr style=\"text-align: right;\">\n",
       "      <th></th>\n",
       "      <th>id</th>\n",
       "      <th>f0</th>\n",
       "      <th>f1</th>\n",
       "      <th>f2</th>\n",
       "      <th>product</th>\n",
       "    </tr>\n",
       "  </thead>\n",
       "  <tbody>\n",
       "    <tr>\n",
       "      <th>931</th>\n",
       "      <td>HZww2</td>\n",
       "      <td>0.755284</td>\n",
       "      <td>0.368511</td>\n",
       "      <td>1.863211</td>\n",
       "      <td>30.681774</td>\n",
       "    </tr>\n",
       "    <tr>\n",
       "      <th>1364</th>\n",
       "      <td>bxg6G</td>\n",
       "      <td>0.411645</td>\n",
       "      <td>0.856830</td>\n",
       "      <td>-3.653440</td>\n",
       "      <td>73.604260</td>\n",
       "    </tr>\n",
       "    <tr>\n",
       "      <th>1949</th>\n",
       "      <td>QcMuo</td>\n",
       "      <td>0.506563</td>\n",
       "      <td>-0.323775</td>\n",
       "      <td>-2.215583</td>\n",
       "      <td>75.496502</td>\n",
       "    </tr>\n",
       "    <tr>\n",
       "      <th>3389</th>\n",
       "      <td>A5aEY</td>\n",
       "      <td>-0.039949</td>\n",
       "      <td>0.156872</td>\n",
       "      <td>0.209861</td>\n",
       "      <td>89.249364</td>\n",
       "    </tr>\n",
       "    <tr>\n",
       "      <th>7530</th>\n",
       "      <td>HZww2</td>\n",
       "      <td>1.061194</td>\n",
       "      <td>-0.373969</td>\n",
       "      <td>10.430210</td>\n",
       "      <td>158.828695</td>\n",
       "    </tr>\n",
       "    <tr>\n",
       "      <th>16633</th>\n",
       "      <td>fiKDv</td>\n",
       "      <td>0.157341</td>\n",
       "      <td>1.028359</td>\n",
       "      <td>5.585586</td>\n",
       "      <td>95.817889</td>\n",
       "    </tr>\n",
       "    <tr>\n",
       "      <th>21426</th>\n",
       "      <td>Tdehs</td>\n",
       "      <td>0.829407</td>\n",
       "      <td>0.298807</td>\n",
       "      <td>-0.049563</td>\n",
       "      <td>96.035308</td>\n",
       "    </tr>\n",
       "    <tr>\n",
       "      <th>41724</th>\n",
       "      <td>bxg6G</td>\n",
       "      <td>-0.823752</td>\n",
       "      <td>0.546319</td>\n",
       "      <td>3.630479</td>\n",
       "      <td>93.007798</td>\n",
       "    </tr>\n",
       "    <tr>\n",
       "      <th>42529</th>\n",
       "      <td>AGS9W</td>\n",
       "      <td>1.454747</td>\n",
       "      <td>-0.479651</td>\n",
       "      <td>0.683380</td>\n",
       "      <td>126.370504</td>\n",
       "    </tr>\n",
       "    <tr>\n",
       "      <th>51970</th>\n",
       "      <td>A5aEY</td>\n",
       "      <td>-0.180335</td>\n",
       "      <td>0.935548</td>\n",
       "      <td>-2.094773</td>\n",
       "      <td>33.020205</td>\n",
       "    </tr>\n",
       "    <tr>\n",
       "      <th>60140</th>\n",
       "      <td>TtcGQ</td>\n",
       "      <td>0.569276</td>\n",
       "      <td>-0.104876</td>\n",
       "      <td>6.440215</td>\n",
       "      <td>85.350186</td>\n",
       "    </tr>\n",
       "    <tr>\n",
       "      <th>63593</th>\n",
       "      <td>QcMuo</td>\n",
       "      <td>0.635635</td>\n",
       "      <td>-0.473422</td>\n",
       "      <td>0.862670</td>\n",
       "      <td>64.578675</td>\n",
       "    </tr>\n",
       "    <tr>\n",
       "      <th>64022</th>\n",
       "      <td>74z30</td>\n",
       "      <td>0.741456</td>\n",
       "      <td>0.459229</td>\n",
       "      <td>5.153109</td>\n",
       "      <td>140.771492</td>\n",
       "    </tr>\n",
       "    <tr>\n",
       "      <th>66136</th>\n",
       "      <td>74z30</td>\n",
       "      <td>1.084962</td>\n",
       "      <td>-0.312358</td>\n",
       "      <td>6.990771</td>\n",
       "      <td>127.643327</td>\n",
       "    </tr>\n",
       "    <tr>\n",
       "      <th>69163</th>\n",
       "      <td>AGS9W</td>\n",
       "      <td>-0.933795</td>\n",
       "      <td>0.116194</td>\n",
       "      <td>-3.655896</td>\n",
       "      <td>19.230453</td>\n",
       "    </tr>\n",
       "    <tr>\n",
       "      <th>75715</th>\n",
       "      <td>Tdehs</td>\n",
       "      <td>0.112079</td>\n",
       "      <td>0.430296</td>\n",
       "      <td>3.218993</td>\n",
       "      <td>60.964018</td>\n",
       "    </tr>\n",
       "    <tr>\n",
       "      <th>89582</th>\n",
       "      <td>bsk9y</td>\n",
       "      <td>0.398908</td>\n",
       "      <td>-0.400253</td>\n",
       "      <td>10.122376</td>\n",
       "      <td>163.433078</td>\n",
       "    </tr>\n",
       "    <tr>\n",
       "      <th>90815</th>\n",
       "      <td>fiKDv</td>\n",
       "      <td>0.049883</td>\n",
       "      <td>0.841313</td>\n",
       "      <td>6.394613</td>\n",
       "      <td>137.346586</td>\n",
       "    </tr>\n",
       "    <tr>\n",
       "      <th>92341</th>\n",
       "      <td>TtcGQ</td>\n",
       "      <td>0.110711</td>\n",
       "      <td>1.022689</td>\n",
       "      <td>0.911381</td>\n",
       "      <td>101.318008</td>\n",
       "    </tr>\n",
       "    <tr>\n",
       "      <th>97785</th>\n",
       "      <td>bsk9y</td>\n",
       "      <td>0.378429</td>\n",
       "      <td>0.005837</td>\n",
       "      <td>0.160827</td>\n",
       "      <td>160.637302</td>\n",
       "    </tr>\n",
       "  </tbody>\n",
       "</table>\n",
       "</div>"
      ],
      "text/plain": [
       "          id        f0        f1         f2     product\n",
       "931    HZww2  0.755284  0.368511   1.863211   30.681774\n",
       "1364   bxg6G  0.411645  0.856830  -3.653440   73.604260\n",
       "1949   QcMuo  0.506563 -0.323775  -2.215583   75.496502\n",
       "3389   A5aEY -0.039949  0.156872   0.209861   89.249364\n",
       "7530   HZww2  1.061194 -0.373969  10.430210  158.828695\n",
       "16633  fiKDv  0.157341  1.028359   5.585586   95.817889\n",
       "21426  Tdehs  0.829407  0.298807  -0.049563   96.035308\n",
       "41724  bxg6G -0.823752  0.546319   3.630479   93.007798\n",
       "42529  AGS9W  1.454747 -0.479651   0.683380  126.370504\n",
       "51970  A5aEY -0.180335  0.935548  -2.094773   33.020205\n",
       "60140  TtcGQ  0.569276 -0.104876   6.440215   85.350186\n",
       "63593  QcMuo  0.635635 -0.473422   0.862670   64.578675\n",
       "64022  74z30  0.741456  0.459229   5.153109  140.771492\n",
       "66136  74z30  1.084962 -0.312358   6.990771  127.643327\n",
       "69163  AGS9W -0.933795  0.116194  -3.655896   19.230453\n",
       "75715  Tdehs  0.112079  0.430296   3.218993   60.964018\n",
       "89582  bsk9y  0.398908 -0.400253  10.122376  163.433078\n",
       "90815  fiKDv  0.049883  0.841313   6.394613  137.346586\n",
       "92341  TtcGQ  0.110711  1.022689   0.911381  101.318008\n",
       "97785  bsk9y  0.378429  0.005837   0.160827  160.637302"
      ]
     },
     "execution_count": 13,
     "metadata": {},
     "output_type": "execute_result"
    }
   ],
   "source": [
    "duplicated_df_0 = geo_0[geo_0.duplicated('id', keep=False)]\n",
    "duplicated_df_0"
   ]
  },
  {
   "cell_type": "markdown",
   "id": "54afc231",
   "metadata": {},
   "source": [
    "Analysis on Geo_0: We can see 10 duplicates in the id column however looking at their respecting columns other values they are all different, this could indicate an error or most likely in my opinion different data points collected at different times for the same well. \n",
    "\n",
    "I am going to keep all of this is because even though the ids are the same their respected well reserves (product column value) are different and so are the rest of the features. Therefor we will keep them all in."
   ]
  },
  {
   "cell_type": "markdown",
   "id": "e76221da",
   "metadata": {},
   "source": [
    "## Geo_1 DataFrame"
   ]
  },
  {
   "cell_type": "code",
   "execution_count": 14,
   "id": "3f1646f4",
   "metadata": {},
   "outputs": [
    {
     "name": "stdout",
     "output_type": "stream",
     "text": [
      "<class 'pandas.core.frame.DataFrame'>\n",
      "RangeIndex: 100000 entries, 0 to 99999\n",
      "Data columns (total 5 columns):\n",
      " #   Column   Non-Null Count   Dtype  \n",
      "---  ------   --------------   -----  \n",
      " 0   id       100000 non-null  object \n",
      " 1   f0       100000 non-null  float64\n",
      " 2   f1       100000 non-null  float64\n",
      " 3   f2       100000 non-null  float64\n",
      " 4   product  100000 non-null  float64\n",
      "dtypes: float64(4), object(1)\n",
      "memory usage: 3.8+ MB\n"
     ]
    }
   ],
   "source": [
    "geo_1.info()"
   ]
  },
  {
   "cell_type": "markdown",
   "id": "7086be4d",
   "metadata": {},
   "source": [
    "Analysis: No missing values and data types seem normal again"
   ]
  },
  {
   "cell_type": "code",
   "execution_count": 15,
   "id": "b6b6206c",
   "metadata": {},
   "outputs": [
    {
     "data": {
      "text/plain": [
       "0"
      ]
     },
     "execution_count": 15,
     "metadata": {},
     "output_type": "execute_result"
    }
   ],
   "source": [
    "geo_1.duplicated().sum()"
   ]
  },
  {
   "cell_type": "code",
   "execution_count": 16,
   "id": "828b0108",
   "metadata": {},
   "outputs": [
    {
     "data": {
      "text/plain": [
       "4"
      ]
     },
     "execution_count": 16,
     "metadata": {},
     "output_type": "execute_result"
    }
   ],
   "source": [
    "geo_1['id'].duplicated().sum()"
   ]
  },
  {
   "cell_type": "code",
   "execution_count": 17,
   "id": "d0add064",
   "metadata": {},
   "outputs": [
    {
     "data": {
      "text/html": [
       "<div>\n",
       "<style scoped>\n",
       "    .dataframe tbody tr th:only-of-type {\n",
       "        vertical-align: middle;\n",
       "    }\n",
       "\n",
       "    .dataframe tbody tr th {\n",
       "        vertical-align: top;\n",
       "    }\n",
       "\n",
       "    .dataframe thead th {\n",
       "        text-align: right;\n",
       "    }\n",
       "</style>\n",
       "<table border=\"1\" class=\"dataframe\">\n",
       "  <thead>\n",
       "    <tr style=\"text-align: right;\">\n",
       "      <th></th>\n",
       "      <th>id</th>\n",
       "      <th>f0</th>\n",
       "      <th>f1</th>\n",
       "      <th>f2</th>\n",
       "      <th>product</th>\n",
       "    </tr>\n",
       "  </thead>\n",
       "  <tbody>\n",
       "    <tr>\n",
       "      <th>1305</th>\n",
       "      <td>LHZR0</td>\n",
       "      <td>11.170835</td>\n",
       "      <td>-1.945066</td>\n",
       "      <td>3.002872</td>\n",
       "      <td>80.859783</td>\n",
       "    </tr>\n",
       "    <tr>\n",
       "      <th>2721</th>\n",
       "      <td>bfPNe</td>\n",
       "      <td>-9.494442</td>\n",
       "      <td>-5.463692</td>\n",
       "      <td>4.006042</td>\n",
       "      <td>110.992147</td>\n",
       "    </tr>\n",
       "    <tr>\n",
       "      <th>5849</th>\n",
       "      <td>5ltQ6</td>\n",
       "      <td>-3.435401</td>\n",
       "      <td>-12.296043</td>\n",
       "      <td>1.999796</td>\n",
       "      <td>57.085625</td>\n",
       "    </tr>\n",
       "    <tr>\n",
       "      <th>41906</th>\n",
       "      <td>LHZR0</td>\n",
       "      <td>-8.989672</td>\n",
       "      <td>-4.286607</td>\n",
       "      <td>2.009139</td>\n",
       "      <td>57.085625</td>\n",
       "    </tr>\n",
       "    <tr>\n",
       "      <th>47591</th>\n",
       "      <td>wt4Uk</td>\n",
       "      <td>-9.091098</td>\n",
       "      <td>-8.109279</td>\n",
       "      <td>-0.002314</td>\n",
       "      <td>3.179103</td>\n",
       "    </tr>\n",
       "    <tr>\n",
       "      <th>82178</th>\n",
       "      <td>bfPNe</td>\n",
       "      <td>-6.202799</td>\n",
       "      <td>-4.820045</td>\n",
       "      <td>2.995107</td>\n",
       "      <td>84.038886</td>\n",
       "    </tr>\n",
       "    <tr>\n",
       "      <th>82873</th>\n",
       "      <td>wt4Uk</td>\n",
       "      <td>10.259972</td>\n",
       "      <td>-9.376355</td>\n",
       "      <td>4.994297</td>\n",
       "      <td>134.766305</td>\n",
       "    </tr>\n",
       "    <tr>\n",
       "      <th>84461</th>\n",
       "      <td>5ltQ6</td>\n",
       "      <td>18.213839</td>\n",
       "      <td>2.191999</td>\n",
       "      <td>3.993869</td>\n",
       "      <td>107.813044</td>\n",
       "    </tr>\n",
       "  </tbody>\n",
       "</table>\n",
       "</div>"
      ],
      "text/plain": [
       "          id         f0         f1        f2     product\n",
       "1305   LHZR0  11.170835  -1.945066  3.002872   80.859783\n",
       "2721   bfPNe  -9.494442  -5.463692  4.006042  110.992147\n",
       "5849   5ltQ6  -3.435401 -12.296043  1.999796   57.085625\n",
       "41906  LHZR0  -8.989672  -4.286607  2.009139   57.085625\n",
       "47591  wt4Uk  -9.091098  -8.109279 -0.002314    3.179103\n",
       "82178  bfPNe  -6.202799  -4.820045  2.995107   84.038886\n",
       "82873  wt4Uk  10.259972  -9.376355  4.994297  134.766305\n",
       "84461  5ltQ6  18.213839   2.191999  3.993869  107.813044"
      ]
     },
     "execution_count": 17,
     "metadata": {},
     "output_type": "execute_result"
    }
   ],
   "source": [
    "duplicated_df_1 = geo_1[geo_1.duplicated('id', keep=False)]\n",
    "duplicated_df_1"
   ]
  },
  {
   "cell_type": "markdown",
   "id": "18744a2a",
   "metadata": {},
   "source": [
    "Analysis on Geo_1: Same interpretation as I explained in the first dataframe I looked at"
   ]
  },
  {
   "cell_type": "markdown",
   "id": "4efc66d7",
   "metadata": {},
   "source": [
    "## Geo_2 DataFrame"
   ]
  },
  {
   "cell_type": "code",
   "execution_count": 18,
   "id": "3ced6db5",
   "metadata": {},
   "outputs": [
    {
     "name": "stdout",
     "output_type": "stream",
     "text": [
      "<class 'pandas.core.frame.DataFrame'>\n",
      "RangeIndex: 100000 entries, 0 to 99999\n",
      "Data columns (total 5 columns):\n",
      " #   Column   Non-Null Count   Dtype  \n",
      "---  ------   --------------   -----  \n",
      " 0   id       100000 non-null  object \n",
      " 1   f0       100000 non-null  float64\n",
      " 2   f1       100000 non-null  float64\n",
      " 3   f2       100000 non-null  float64\n",
      " 4   product  100000 non-null  float64\n",
      "dtypes: float64(4), object(1)\n",
      "memory usage: 3.8+ MB\n"
     ]
    }
   ],
   "source": [
    "geo_2.info()"
   ]
  },
  {
   "cell_type": "markdown",
   "id": "e30a4552",
   "metadata": {},
   "source": [
    "Analysis: No missing values and data types seem to be normal"
   ]
  },
  {
   "cell_type": "code",
   "execution_count": 19,
   "id": "44cc4980",
   "metadata": {},
   "outputs": [
    {
     "data": {
      "text/plain": [
       "0"
      ]
     },
     "execution_count": 19,
     "metadata": {},
     "output_type": "execute_result"
    }
   ],
   "source": [
    "geo_2.duplicated().sum()"
   ]
  },
  {
   "cell_type": "code",
   "execution_count": 20,
   "id": "03b994e7",
   "metadata": {},
   "outputs": [
    {
     "data": {
      "text/plain": [
       "4"
      ]
     },
     "execution_count": 20,
     "metadata": {},
     "output_type": "execute_result"
    }
   ],
   "source": [
    "geo_2['id'].duplicated().sum()"
   ]
  },
  {
   "cell_type": "code",
   "execution_count": 21,
   "id": "506c5d3c",
   "metadata": {},
   "outputs": [
    {
     "data": {
      "text/html": [
       "<div>\n",
       "<style scoped>\n",
       "    .dataframe tbody tr th:only-of-type {\n",
       "        vertical-align: middle;\n",
       "    }\n",
       "\n",
       "    .dataframe tbody tr th {\n",
       "        vertical-align: top;\n",
       "    }\n",
       "\n",
       "    .dataframe thead th {\n",
       "        text-align: right;\n",
       "    }\n",
       "</style>\n",
       "<table border=\"1\" class=\"dataframe\">\n",
       "  <thead>\n",
       "    <tr style=\"text-align: right;\">\n",
       "      <th></th>\n",
       "      <th>id</th>\n",
       "      <th>f0</th>\n",
       "      <th>f1</th>\n",
       "      <th>f2</th>\n",
       "      <th>product</th>\n",
       "    </tr>\n",
       "  </thead>\n",
       "  <tbody>\n",
       "    <tr>\n",
       "      <th>11449</th>\n",
       "      <td>VF7Jo</td>\n",
       "      <td>2.122656</td>\n",
       "      <td>-0.858275</td>\n",
       "      <td>5.746001</td>\n",
       "      <td>181.716817</td>\n",
       "    </tr>\n",
       "    <tr>\n",
       "      <th>28039</th>\n",
       "      <td>xCHr8</td>\n",
       "      <td>1.633027</td>\n",
       "      <td>0.368135</td>\n",
       "      <td>-2.378367</td>\n",
       "      <td>6.120525</td>\n",
       "    </tr>\n",
       "    <tr>\n",
       "      <th>43233</th>\n",
       "      <td>xCHr8</td>\n",
       "      <td>-0.847066</td>\n",
       "      <td>2.101796</td>\n",
       "      <td>5.597130</td>\n",
       "      <td>184.388641</td>\n",
       "    </tr>\n",
       "    <tr>\n",
       "      <th>44378</th>\n",
       "      <td>Vcm5J</td>\n",
       "      <td>-1.229484</td>\n",
       "      <td>-2.439204</td>\n",
       "      <td>1.222909</td>\n",
       "      <td>137.968290</td>\n",
       "    </tr>\n",
       "    <tr>\n",
       "      <th>45404</th>\n",
       "      <td>KUPhW</td>\n",
       "      <td>0.231846</td>\n",
       "      <td>-1.698941</td>\n",
       "      <td>4.990775</td>\n",
       "      <td>11.716299</td>\n",
       "    </tr>\n",
       "    <tr>\n",
       "      <th>49564</th>\n",
       "      <td>VF7Jo</td>\n",
       "      <td>-0.883115</td>\n",
       "      <td>0.560537</td>\n",
       "      <td>0.723601</td>\n",
       "      <td>136.233420</td>\n",
       "    </tr>\n",
       "    <tr>\n",
       "      <th>55967</th>\n",
       "      <td>KUPhW</td>\n",
       "      <td>1.211150</td>\n",
       "      <td>3.176408</td>\n",
       "      <td>5.543540</td>\n",
       "      <td>132.831802</td>\n",
       "    </tr>\n",
       "    <tr>\n",
       "      <th>95090</th>\n",
       "      <td>Vcm5J</td>\n",
       "      <td>2.587702</td>\n",
       "      <td>1.986875</td>\n",
       "      <td>2.482245</td>\n",
       "      <td>92.327572</td>\n",
       "    </tr>\n",
       "  </tbody>\n",
       "</table>\n",
       "</div>"
      ],
      "text/plain": [
       "          id        f0        f1        f2     product\n",
       "11449  VF7Jo  2.122656 -0.858275  5.746001  181.716817\n",
       "28039  xCHr8  1.633027  0.368135 -2.378367    6.120525\n",
       "43233  xCHr8 -0.847066  2.101796  5.597130  184.388641\n",
       "44378  Vcm5J -1.229484 -2.439204  1.222909  137.968290\n",
       "45404  KUPhW  0.231846 -1.698941  4.990775   11.716299\n",
       "49564  VF7Jo -0.883115  0.560537  0.723601  136.233420\n",
       "55967  KUPhW  1.211150  3.176408  5.543540  132.831802\n",
       "95090  Vcm5J  2.587702  1.986875  2.482245   92.327572"
      ]
     },
     "execution_count": 21,
     "metadata": {},
     "output_type": "execute_result"
    }
   ],
   "source": [
    "duplicated_df_2 = geo_2[geo_2.duplicated('id', keep=False)]\n",
    "duplicated_df_2"
   ]
  },
  {
   "cell_type": "markdown",
   "id": "c52ca5b9",
   "metadata": {},
   "source": [
    "Analysis: Same interpretation as the previous two dataframes "
   ]
  },
  {
   "cell_type": "markdown",
   "id": "e704f592",
   "metadata": {},
   "source": [
    "<div class=\"alert alert-success\">\n",
    "<b>Reviewer's comment</b>\n",
    "\n",
    "The data was loaded and inspected\n",
    "\n",
    "</div>"
   ]
  },
  {
   "cell_type": "markdown",
   "id": "83957da2",
   "metadata": {},
   "source": [
    "# Train and Test the Model for Each Region"
   ]
  },
  {
   "cell_type": "code",
   "execution_count": 22,
   "id": "53427328",
   "metadata": {},
   "outputs": [],
   "source": [
    "from sklearn.model_selection import train_test_split\n",
    "\n",
    "train_0, valid_0 = train_test_split(geo_0, test_size=0.25, random_state=42)\n",
    "train_1, valid_1 = train_test_split(geo_1, test_size=0.25, random_state=42)\n",
    "train_2, valid_2 = train_test_split(geo_2, test_size=0.25, random_state=42)\n",
    "\n",
    "# Splitting data for each of the three regions"
   ]
  },
  {
   "cell_type": "code",
   "execution_count": 23,
   "id": "343a17a3",
   "metadata": {},
   "outputs": [],
   "source": [
    "from sklearn.linear_model import LinearRegression\n",
    "from sklearn.metrics import mean_squared_error\n",
    "\n",
    "def train_and_evaluate(train, valid):\n",
    "    features_train = train.drop(['id', 'product'], axis=1)\n",
    "    target_train = train['product']\n",
    "    features_valid = valid.drop(['id', 'product'], axis=1)\n",
    "    target_valid = valid['product']\n",
    "    \n",
    "    # Training the model now\n",
    "    model = LinearRegression()\n",
    "    model.fit(features_train, target_train)\n",
    "    \n",
    "    # Making predictions and evaluating the model \n",
    "    predictions = model.predict(features_valid)\n",
    "    rmse = mean_squared_error(target_valid, predictions, squared=False)\n",
    "    \n",
    "    return predictions, rmse \n",
    "\n",
    "\n",
    "# Applying the function to each region's dataset \n",
    "predictions_0, rmse_0 = train_and_evaluate(train_0, valid_0)\n",
    "predictions_1, rmse_1 = train_and_evaluate(train_1, valid_1)\n",
    "predictions_2, rmse_2 = train_and_evaluate(train_2, valid_2)"
   ]
  },
  {
   "cell_type": "code",
   "execution_count": 24,
   "id": "53ceec04",
   "metadata": {},
   "outputs": [
    {
     "name": "stdout",
     "output_type": "stream",
     "text": [
      "Region 0 - Average Predicted Reserves: 92.3987999065777 RMSE: 37.756600350261685\n",
      "Region 1 - Average Predicted Reserves: 68.71287803913762 RMSE: 0.890280100102884\n",
      "Region 2 - Average Predicted Reserves: 94.77102387765939 RMSE: 40.14587231134218\n"
     ]
    }
   ],
   "source": [
    "# printing the average volume of predicted reserves and model rmse\n",
    "\n",
    "print(\"Region 0 - Average Predicted Reserves:\", predictions_0.mean(), \"RMSE:\", rmse_0)\n",
    "print(\"Region 1 - Average Predicted Reserves:\", predictions_1.mean(), \"RMSE:\", rmse_1)\n",
    "print(\"Region 2 - Average Predicted Reserves:\", predictions_2.mean(), \"RMSE:\", rmse_2)\n"
   ]
  },
  {
   "cell_type": "markdown",
   "id": "c89d240c",
   "metadata": {},
   "source": [
    "## Analysis of model results: \n",
    "\n",
    "Region 0:\n",
    "\n",
    "    - Average Predicted Reserves: 92.4 Thousand Barrels \n",
    "    - RMSE (Root Mean Square Error): 37.76\n",
    "Explanation: The model's predictions for Region 0 have a relatively high RMSE, indicating that the model's predictions can be off by about 37.76 thousand barrels on average. This suggests a moderate level of prediction error \n",
    "\n",
    "Reion 1:\n",
    "\n",
    "    - Average Predicted Reserves: 68.71 thousand barrels \n",
    "    - RMSE: 0.89\n",
    "Explanation: This model shows an exceptionally low RMSE< which means predictions are very close to the actual values, with an average error of just about 0.89 thousand barrels. This model is highly accurate compared to the others.\n",
    "\n",
    "Region 2:\n",
    "\n",
    "    - Average predicted Reserves: 94.77 Thousand Barrels \n",
    "    - RMSE: 40.15 \n",
    "Explanation: Similar to Region 0, Region 2's model also has a high RMSE, indicating significant prediction errors, with an average error of about 40.15 thousand barrels\n",
    "\n",
    "Overall Observations:\n",
    "\n",
    "Accuracy: The model trained on Region 1 is significantly more accurate than those trained on Region 0 and 2. This could be due to various factors such as less variability in the data, better correlations between features and target or other region specific chararistics that make the data more predictable \n",
    "\n",
    "Predicted Reserves: The average predicted reserves are highest in Region 2 and lowest in Region 1. Despite its high accuracy, Region 1's model predicts lower average oil reserves, which will impact the decision on the best rgeion for profitability \n",
    "\n",
    "From purely model accuracy perspective, Region 1 seems the most reliable for predicting oil reserves. However, the business decision will also depend on the volume of reserves; even though Region 1's predictions are more accurate, the predicted reserves are the lowest among the three regions \n",
    "\n",
    "Considering RMSE and Business Needs: If minimizing prediction error (increasing precision in predictions) was more improtant for the projects financial and operational strategies, Region 1 stands out as the best option. However the focus is more on maximizing oil reserves, Regions 0 and 2 will be considered, despite higher uncertainity in their predictions.\n",
    "\n",
    "\n"
   ]
  },
  {
   "cell_type": "markdown",
   "id": "f2488db5",
   "metadata": {},
   "source": [
    "# Prepare for Profit Calculation "
   ]
  },
  {
   "cell_type": "markdown",
   "id": "d9268255",
   "metadata": {},
   "source": [
    "## Storing all key values for calculations in seperate variables \n",
    "\n",
    "Budget for one region: $100 million for 200 wells\n",
    "\n",
    "Revenue per barrel: $4.5 \n",
    "\n",
    "Revenue per thousand barrels (since 'product' is in thousand barrels): $4500\n",
    "\n"
   ]
  },
  {
   "cell_type": "code",
   "execution_count": 25,
   "id": "12f57c5d",
   "metadata": {},
   "outputs": [],
   "source": [
    "BUDGET = 100_000_000\n",
    "REVENUE_PER_THOUSAND_BARRELS = 4500\n",
    "NUM_WELLS = 200"
   ]
  },
  {
   "cell_type": "markdown",
   "id": "be6c5457",
   "metadata": {},
   "source": [
    "## Calcuating the volume of reserves sufficient for developing a new well without losses \n",
    "\n",
    "To calculate the break-even point, we need to determine how many barrels are necessary to cover the investment on one well:"
   ]
  },
  {
   "cell_type": "code",
   "execution_count": 26,
   "id": "ff04cb29",
   "metadata": {},
   "outputs": [
    {
     "name": "stdout",
     "output_type": "stream",
     "text": [
      "Cost per well: $500000.0\n",
      "Break-even reserves per well (in thousand barrels): 111.11111111111111\n"
     ]
    }
   ],
   "source": [
    "cost_per_well = BUDGET / NUM_WELLS\n",
    "break_even_reserves = cost_per_well / REVENUE_PER_THOUSAND_BARRELS \n",
    "print(f\"Cost per well: ${cost_per_well}\")\n",
    "print(f\"Break-even reserves per well (in thousand barrels): {break_even_reserves}\")"
   ]
  },
  {
   "cell_type": "markdown",
   "id": "325b96eb",
   "metadata": {},
   "source": [
    "Analysis: \n",
    "\n",
    "Cost Per Well:\n",
    "\n",
    "    - $500,000 per well: This is the amount you will need to invest in each of the 200 wells if the budget of $100 million is distributed equally among them. The figure is crucial because it sets the financial baseline for how much each well needs to generate in terms of oil reserves to be considered viable under the set budget. \n",
    "    \n",
    "Break Even Reserves Per Well:\n",
    "\n",
    "    - 111.11 Thousand Barrels: This number represents the volume of oil reserves (in thousand barrels) that each well must produce in order to break even on the initial investment of $500,000. In simple terms, each well needs to produce at least 111.11 thousand barrels of oil just to cover the cost of drilling and setting up the well, assuming all the oil produces can be sold at the current revenue rate of $4,500 per thousand barrels \n",
    "    \n",
    "Comparisons with Predicted Reserves:\n",
    "\n",
    "    - From my earlier model predictions, the average predicted reserves for Regions 0, 1 and 2 are 92.4, 68.71 and 94.77 thousand barrels respectively. \n",
    "    - All three regions average prediction of barrels falls short of the break-even threshold \n",
    "    \n",
    "Strategic Decisions: These insights suggest that none of the regions, on average, meet the break-even reserves threshold, posing a financial challege. The focus might need to shift towards identifying individual wells within these regions that exceed the break-even point rather than averaging across all wells.\n",
    "\n",
    "Further Analysis and Risk Management:\n",
    " \n",
    "    - A more detailed analysis using bootstrapping technique method for risk management and profit simulation will be critcal. It will allow me to refine these estimates and provide a probabilistic view of potential profits and losses, offering a more nuanced decision-making framework \n",
    "    \n",
    "Moving forward, the project will focus on not just the average outputs but on the distribution of reserves across all wells, identifying the high performers that could justify the overall invetsment in each region.\n",
    "    \n",
    "\n"
   ]
  },
  {
   "cell_type": "markdown",
   "id": "9c1140c1",
   "metadata": {},
   "source": [
    "## Calculating Profit from Selected Oil Wells\n",
    "\n",
    "We will need to sort the wells by their predicted reserves and select the top wells. Since the budget allows for 200 wells to be developed, we will select the top 200 wells based on their predicted reserves.\n",
    "\n",
    "Aftr selecting the top wells, the next step is to calculate the total predicted volume of reserves from these wells.\n",
    "\n",
    "Finally we will calculate the profit by taking the sum of the predicted reserves, multiplying by the revenue per thousand barrels, and subtracting the total investment costs "
   ]
  },
  {
   "cell_type": "code",
   "execution_count": 32,
   "id": "42404c12",
   "metadata": {},
   "outputs": [
    {
     "name": "stdout",
     "output_type": "stream",
     "text": [
      "Profit for Region 0: $33591411.14\n",
      "Profit for Region 1: $24150866.97\n",
      "Profit for Region 2: $25985717.59\n"
     ]
    },
    {
     "name": "stderr",
     "output_type": "stream",
     "text": [
      "/tmp/ipykernel_50/3797895810.py:3: SettingWithCopyWarning: \n",
      "A value is trying to be set on a copy of a slice from a DataFrame.\n",
      "Try using .loc[row_indexer,col_indexer] = value instead\n",
      "\n",
      "See the caveats in the documentation: https://pandas.pydata.org/pandas-docs/stable/user_guide/indexing.html#returning-a-view-versus-a-copy\n",
      "  data['predictions'] = predictions\n"
     ]
    }
   ],
   "source": [
    "def calculate_profit(data, predictions, top_wells=200):\n",
    "\n",
    "    data['predictions'] = predictions \n",
    "    top_data = data.nlargest(top_wells, 'predictions')\n",
    "    \n",
    "    # calculating the total predicted reserves from the top wells \n",
    "    total_actual_reserves = top_data['product'].sum()\n",
    "    \n",
    "    # Calculating profit total revenue from top wells - total cost \n",
    "    total_revenue = total_actual_reserves * REVENUE_PER_THOUSAND_BARRELS \n",
    "    profit = total_revenue - BUDGET\n",
    "    \n",
    "    #Removing the temporary predictions column to keep the data clean\n",
    "    data.drop(columns='predictions', inplace=True)\n",
    "    \n",
    "    return profit \n",
    "\n",
    "# using the function on each regions dataset\n",
    "profit_0 = calculate_profit(valid_0, predictions_0)\n",
    "profit_1 = calculate_profit(valid_1, predictions_1)\n",
    "profit_2 = calculate_profit(valid_2, predictions_2)\n",
    "\n",
    "print(f\"Profit for Region 0: ${profit_0:.2f}\")\n",
    "print(f\"Profit for Region 1: ${profit_1:.2f}\")\n",
    "print(f\"Profit for Region 2: ${profit_2:.2f}\")"
   ]
  },
  {
   "cell_type": "markdown",
   "id": "b6b3927f",
   "metadata": {},
   "source": [
    "The function description:\n",
    "\n",
    "- def calculate_profit(data, predictions, top_wells=200):\n",
    "    - We created a function here with the parameters data which will take a Dataframe containing the data of oil wells\n",
    "    - 'predictions' parameter takes the array of predicted reserves (volume) for the wells \n",
    "    - 'top_wells=200' is the last parameter with a default value of 200 representing the number of wells to consider based on their predicted reserves \n",
    "    \n",
    "- data['predictions'] = predictions \n",
    "    - This line adds a new column called 'predictions' to the data frame. This column contains the predicted volumes of oil reserves for each well. These predictions come from my machine learning model which was a linear regression model.\n",
    "    \n",
    "- 'top_data.nlargest(top_wells, 'predictions')\n",
    "   - This line selects the 'top_wells' (200) based on the highest predicted reserves. It uses the predictions to determine which wells are likely the most productive\n",
    "\n",
    "- total_actual_reserves = top_data['product'].sum()\n",
    "    - After selecting the top wells based on predictions, this line calculates the sum of the actual oil reserves ('product'column) from these selected wells. These are actual amounts of oil that were really found in the wells, not the predicted amounts. \n",
    "\n",
    "-  total_revenue = total_actual_reserves * REVENUE_PER_THOUSAND_BARRELS \n",
    "    profit = total_revenue - BUDGET\n",
    "    - Here total revenue is found by multiplying the total actual reserves by the revenue per thousand barrels. Then, the total cost (the budget allocated for drilling these wells) is subtracted from the total revenue to calculate the profit. \n",
    "    \n",
    "- data.drop(columns='predictions', inplace=True)\n",
    "    - This line removes the temporrary 'predictions' column from the 'data' DataFrame. It is important to clean up temporrary data that was only needed for calculations to keep the dataset clean and prevent any errors in future data operations. \n",
    "    \n",
    "- return Profit\n",
    "    - Finally the function returns the calculated profit "
   ]
  },
  {
   "cell_type": "markdown",
   "id": "2b3c0365",
   "metadata": {},
   "source": [
    "Analysis of Profit Results Piror to Boostrapping:\n",
    "\n",
    "Profit Results Overview:\n",
    "\n",
    "Region 0: $33,591,411.14\n",
    "\n",
    "Region 1: $24,150,866.97\n",
    "\n",
    "Region 2: $25,985,717.59\n",
    "\n",
    "Highest Profit: Region 0 shows the highest profit among the three with $33,591,411 suggesting that the wells predicted by the model in this region are likely to yield the most substantial returns if developed. It produced actual significant reserves resulting in higher revenue and this higher profit\n",
    "\n",
    "Region 2 follows with a moderate profit and Region 1 had the lowest profit. The lower profit in region 1, despite potentially a more accurate model predictions (based on the lower RMSE), suggests that the actual colume of reserves in the top wells was not as high as expected. \n",
    "\n",
    "- Comparison to Break-Even: \n",
    "\n",
    "    - The break even analysis conducted earlier revealed that each well needs to produce approximately 111.11 thousand barrels to cover the investment of 500,000 dollars per well, given that the revenue per thousand barrels is 4500 dollars. Here is how each region fares against this break-even point, taking into account the actual production data:\n",
    "    \n",
    "        - Region 0: With a profit of 33,591,411 dollars this region indicates a substantial margin above the break-even point. Given that the total budget for thr egion was 100 million (covering 200 wells), and the profit achieved is significantly high, it implies that the average well production far exceeded the break even reserve requirement. From the 100 million dollar investment this would indicate a 33.59 percet ROI (return on investment)\n",
    "        \n",
    "        - Region 1: With a profit of 24,150,866 dollars this region is the lowest among the three regions. Although profitable, it is closer to the investment budget than the others indicating that wells likely hovered closer to the break even point than Region 0. The ROI is around 24 percent.\n",
    "        \n",
    "        - Region 2: With a profit of 25,985,717 this region also shows positive returns, but similar to Region 1, suggests that a significant number of wells might be producing just around or somehwat above the break even point. The profit although robust is not as significant as region 0.\n",
    "        \n",
    "- Implications on Decision Making\n",
    "\n",
    "    - Risk vs. Return: Region 0 provides the highest return according the model's predictions and actual well data, though the RMSE for Region 0 was higher, suggesting less accurate predictions. This could mean that the high profits might also carry a higher risk of prediction error\n",
    "    \n",
    "    - Recommendation: If maximizing profit is the primary goal and the company is ready to tolerate higher risks, Region 0 appears to be promising. However for a strategy that balances profit potential with prediction accuracy and minimizes risks, a diversified investment across regions may be advisable, possibly capitalizing on the more reliable predictions of region 1 to mitigate risks in regions 0.\n",
    "        \n",
    "  \n",
    "    \n"
   ]
  },
  {
   "cell_type": "markdown",
   "id": "110a6366",
   "metadata": {},
   "source": [
    "## Calculating Risks and profit for Each Region\n",
    "\n",
    "I will use the Boostrapping Technique with 1000 Samples to Find the Distribution of Profit \n",
    "    - Bootstrapping involves repeatedly sampling from the dataset with replacement to estimate the distribution of an estimate (in this case, profit). I will simulate the selection of 200 wells from the predictions 1000 times, calculate the profit for each sample, and use this distribution to assess risk and variability. "
   ]
  },
  {
   "cell_type": "code",
   "execution_count": 38,
   "id": "3ec99942",
   "metadata": {},
   "outputs": [],
   "source": [
    "import numpy as np\n",
    "import pandas as pd\n",
    "\n",
    "def bootstrap_profit(data, predictions, n_iterations=1000, n_samples=500, top_wells=200):\n",
    "    np.random.seed(42)  # For reproducibility\n",
    "    profits = []\n",
    "    \n",
    "    data_copy = data.copy()\n",
    "    data_copy['predictions'] = predictions  # Adding predictions as a column temporarily\n",
    "    \n",
    "    for i in range(n_iterations):\n",
    "        # Correctly sampling from data_copy which includes the 'predictions' column\n",
    "        sampled = data_copy.sample(n=n_samples, replace=True, random_state=np.random.randint(1, 10000))\n",
    "        \n",
    "        # Selecting the top 200 wells based on predictions\n",
    "        top_sampled = sampled.nlargest(top_wells, 'predictions')\n",
    "        \n",
    "        # Calculating the total actual reserves from the top wells\n",
    "        total_actual_reserves = top_sampled['product'].sum()\n",
    "        \n",
    "        # Calculating revenue and profit\n",
    "        total_revenue = total_actual_reserves * REVENUE_PER_THOUSAND_BARRELS\n",
    "        profit = total_revenue - BUDGET\n",
    "        profits.append(profit)\n",
    "        \n",
    "    return np.array(profits)\n",
    "\n",
    "# Applying bootstrapping to each region's dataset\n",
    "profits_0 = bootstrap_profit(valid_0, predictions_0)\n",
    "profits_1 = bootstrap_profit(valid_1, predictions_1)\n",
    "profits_2 = bootstrap_profit(valid_2, predictions_2)\n"
   ]
  },
  {
   "cell_type": "markdown",
   "id": "cd09c188",
   "metadata": {},
   "source": [
    "- Bootstrapping\n",
    "\n",
    "    - Bootstrapping is a technique used in statistics to estimate certain quantities about a population when you only have a small sample of that population. It is like trying to guess the average hight of all the students in a school by repeatedly measuring the heights of ust a few students over and over again. \n",
    "    \n",
    "    - Imagine you have a bag of colored balls, some red, some blue and some green. I want to know which color is the most common, but instead of counting all the balls in the bag, you do the following:\n",
    "        - You reach into the bag and pull out a handful of balls several times, each time recording how many of each color you get. \n",
    "        - After each handful you put the balls back into the bag and shake it mixing them all up again\n",
    "        - You repeat this process many times, each time noting the colors. \n",
    "        - By doing this many times you begin to see a pattern. Maybe most of the time you end up with more blu eballs than any other color. The repeated sampling gives you a good idea that blue or whatever color might be the most common color, even though you haven't counted all the balls in the bag \n",
    "        \n",
    "    -Boostrap in my project:\n",
    "        - I have predictions about how much oil each well may produce and the actual data of how much they did produce. \n",
    "        - Sample Wells: instead of using all the data at once, I randomly pick a smaller group of wells and pretend like im deciding whether to drill them based on the predictions \n",
    "        - Calculating profit: For these samples wells, I calculated how much profit they would make based on the actual amount of oil they produced. \n",
    "        - Repeat: I repeat this many times, each time picking a different random group of wells. This gives me a bunch of different profit results\n",
    "        \n",
    "    -Why use Bootsraping?\n",
    "        - Just like with the colored balls example, boostrapping heps me understand how often my predictions lead to profitable decisions and how much those profits might vary. It is a way to stimulate different scenarios and see what may happen in various cases without having to drill all the wells to find out. \n",
    "    \n",
    "    - Confidence in Decisions: By seeing the results from many boostrap samples I can feel more confident about my average expected profits and the risks involved. If most of my boostrap samples show good profits, I am more confident that the wells based on the model's predictions is a good idea.\n",
    "\n",
    "Bootstrap Function Analysis:\n",
    "\n",
    "import numpy as np\n",
    "import pandas as pd\n",
    "\n",
    "def bootstrap_profit(data, predictions, n_iterations=1000, n_samples=500, top_wells=200):\n",
    "    np.random.seed(42)  # For reproducibility\n",
    "    profits = []\n",
    "    \n",
    "    data_copy = data.copy()\n",
    "    data_copy['predictions'] = predictions  # Add predictions as a column temporarily\n",
    "\n",
    "- Setting parameters\n",
    "\n",
    "    - 'data' is the dataframe which contains the actual data for each well 'product' column. Data was alos copied in this function to avoid modifying the original dataset.\n",
    "    - 'predictions' This is an array that contains the predicted values for oil producting for each well. These prediction are output from my machine learning model which was used to simulate decision making processeses (deciding which wells are potentially most profitable to develop)\n",
    "    - 'n_itertions' specifies the number of bootstrap samples to generate. Each iteration represents a seperate simulation of the selection and profit calculation process, allowing for the estiation of the variability and distribution of potential profits. \n",
    "        - The loop inside the function runs n_iterations times, each time sampling wells, calculating profits and recording the result. This parameter controls how extensive the simulation is-the more iterations, the more accurate and stable the estiation of profit distribution will be.\n",
    "    - 'n_samples' Determines the number of wells to sample in each bootstrap iteration. This is not the number of wells to ultimately calculate profit for, but rather the initial number of wells considered in each simulated scenario. \n",
    "        - in each iteration n_samples wells are selected from the data_copy with replacement. This simulates the randomness in selecting wells for potential development.\n",
    "    - top_wells: Purpose after sampling n_samples wells, top_wells specifies the number of top wells to select based on the highest predictions for further profit calculation. This reflects a realistic decision-making scenario where only a subset of promising wells (based on predictions) is actually developed\n",
    "        - From the sampled wells in each iteration, only the top_wells based on predictions are actually used to calculate profits reflecting the focus on the most promising wells.\n",
    "\n",
    "\n",
    "        "
   ]
  },
  {
   "cell_type": "markdown",
   "id": "3f2d5c5e",
   "metadata": {},
   "source": [
    "## Subsequent Analysis using the Bootstrapped Profits "
   ]
  },
  {
   "cell_type": "code",
   "execution_count": 41,
   "id": "0125be3d",
   "metadata": {},
   "outputs": [
    {
     "name": "stdout",
     "output_type": "stream",
     "text": [
      "Region 0: Mean Profit = $4028465.14, 95% CI = [-1129119.71951966  9203146.12728711], Risk of Loss = 5.1%\n",
      "Region 1: Mean Profit = $4422033.42, 95% CI = [ 453430.28489968 8611047.25219177], Risk of Loss = 1.2%\n",
      "Region 2: Mean Profit = $3846202.77, 95% CI = [-1852021.08835022  9099954.80166967], Risk of Loss = 7.6%\n"
     ]
    }
   ],
   "source": [
    "def analyze_results(profits):\n",
    "    mean_profit = np.mean(profits)\n",
    "    confidence_interval = np.percentile(profits, [2.5, 97.5])\n",
    "    risk_of_loss = (profits < 0).mean() * 100 # percent of negative profit instances \n",
    "    \n",
    "    return mean_profit, confidence_interval, risk_of_loss \n",
    "\n",
    "analysis_0 = analyze_results(profits_0)\n",
    "analysis_1 = analyze_results(profits_1)\n",
    "analysis_2 = analyze_results(profits_2)\n",
    "\n",
    "print(f\"Region 0: Mean Profit = ${analysis_0[0]:.2f}, 95% CI = {analysis_0[1]}, Risk of Loss = {analysis_0[2]}%\")\n",
    "print(f\"Region 1: Mean Profit = ${analysis_1[0]:.2f}, 95% CI = {analysis_1[1]}, Risk of Loss = {analysis_1[2]}%\")\n",
    "print(f\"Region 2: Mean Profit = ${analysis_2[0]:.2f}, 95% CI = {analysis_2[1]}, Risk of Loss = {analysis_2[2]}%\")          \n",
    "                "
   ]
  },
  {
   "cell_type": "markdown",
   "id": "41c6307b",
   "metadata": {},
   "source": [
    "Function:\n",
    "\n",
    "- We defined the function with profits parameter\n",
    "    - mean_profit = np.mean(profits): This will calculate the average mean profit form the boostrapped amples. the mean proft gives a central value for expected profit based on the simulation, providing a straightforward metri to gauge the average outcome.\n",
    "    - confidence_interval = np.percentile(profits, [2.5, 97.5]): This calculates the 95% confidence interval for the profits. The function np.percentile() is used to find the 2.5th and 97.5th perctiles of the boostrapped profit data. This interval means that based on the simulated boostrapping, we are 95% confidence that the actual profit will fall between these two values. A narrower interval indicates less uncertainity or risk in the profit estimate. \n",
    "    \n",
    "    -risk_of_loss = (profits < 0).mean() * 100: This calculates the percentage of boostrapped samples where the profit was less than zero aka a loss). It first creates a boolean array where each entry is 'True' if the profit is negative and 'False' otherwise. The .mean() method calculates the fraction of 'True' values (i.e, loss cases), and multiplying by 100 converts this fraction into a percetage. This metric is important for assessing the riskiness of the invetsment \n",
    "    \n",
    "Returning Results:\n",
    "\n",
    "the function returns a tuple containing the calculated mean profit, confidence interval and risk of losses. These values provide me a comprehnsive statistical summary of the expected financial outcomes and its variability. \n",
    "\n"
   ]
  },
  {
   "cell_type": "markdown",
   "id": "d8811798",
   "metadata": {},
   "source": [
    "Analysis: \n",
    "\n",
    "Mean Profit\n",
    "\n",
    "Region 0 Mean Profit = $4,028,465.14\n",
    "\n",
    "- This indicates that on average developing oils wells in Region 0 are expected to yield a profit of approximately $4.03 million\n",
    "\n",
    "- 95 Percent Confidence Interval [-1,129,119.72, 9,203,146.13]\n",
    "    - The wide range suggests a substantial variability in profit outcomes. The CI includes negative values, indicating potential losses in some scenarios.\n",
    "    \n",
    "- Risk of Loss: 5.1% \n",
    "    - There is a 5.1% chance of incurring losses, which is relatively low but significant enough to warrant caution\n",
    "    \n",
    "\n",
    "Region 1 Mean Profit: $4,422,033.42\n",
    "\n",
    "- The highest mean profit among the three regions, suggesting that Region 1 might be the most lucrative on average.\n",
    "\n",
    "    - 95 Confidence Interval: [453,430.28, 8,611,047.25]\n",
    "        - The CI does not include negative values, indicating a lower financial risk compared to Region 0. The profit outcomes are generally positive.\n",
    "Risk of Loss: 1.2%\n",
    "\n",
    "        - Very low risk of losses, making Region 1 appear the safest investment among the three in terms of stability and reliability of returns.\n",
    "\n",
    "\n",
    "Region 2 Mean Profit: $3,846,202.77\n",
    "\n",
    "- Slightly lower than Region 0, indicating a moderate average profit level.\n",
    "- 95% Confidence Interval: [-1,852,021.09, 9,099,954.80]\n",
    "    - Similar to Region 0, the wide range includes potential significant losses, suggesting high variability and financial risk.\n",
    "- Risk of Loss: 7.6%\n",
    "    - The highest risk of loss among the three regions, which might be a deterrent for investors seeking stability.\n",
    "\n",
    "\n",
    "\n",
    "\n",
    "\n",
    "\n",
    "\n"
   ]
  },
  {
   "cell_type": "markdown",
   "id": "4676410f",
   "metadata": {},
   "source": [
    " # Conclusion\n",
    " \n",
    " Interpretation and Strategic Implications:\n",
    " \n",
    "     - Region 1 offers the best balance between high profitability and low risk, with the highest mean profit and the lowest risk of loss. It also has the most stable profit outcomes (narrowest range that does not dip into lossess). \n",
    "     - Region 0 and 2 show higher variability in profits with potential for both higher gains and significant losses. Investors in these regions should fear a higher financial risk than Region 1.\n",
    "     \n",
    "Investment Decision:\n",
    "\n",
    "    - For conservative investors that prioritize stable returns and lower risk, Region 1 is the most attractive. Its mean is also higher on average than the others so I would highly suggest Region 1:\n",
    "    - However Regions 0 and 2 could be considered with Region 0 being slightly more attractive in terms of lower risk of loss compared to region 2.\n",
    "    \n",
    "    \n",
    "The bootstrapping analysis has provided valuable insights into the financial risks and potential returns from developing oil wells in each region. This data-driven approach aids in making informed invetsment decisions, balancing between ris and profitability based on statitsical evidence from simulated outcomes."
   ]
  }
 ],
 "metadata": {
  "kernelspec": {
   "display_name": "Python 3 (ipykernel)",
   "language": "python",
   "name": "python3"
  },
  "language_info": {
   "codemirror_mode": {
    "name": "ipython",
    "version": 3
   },
   "file_extension": ".py",
   "mimetype": "text/x-python",
   "name": "python",
   "nbconvert_exporter": "python",
   "pygments_lexer": "ipython3",
   "version": "3.9.5"
  },
  "toc": {
   "base_numbering": 1,
   "nav_menu": {},
   "number_sections": true,
   "sideBar": true,
   "skip_h1_title": true,
   "title_cell": "Table of Contents",
   "title_sidebar": "Contents",
   "toc_cell": false,
   "toc_position": {},
   "toc_section_display": true,
   "toc_window_display": false
  }
 },
 "nbformat": 4,
 "nbformat_minor": 5
}
